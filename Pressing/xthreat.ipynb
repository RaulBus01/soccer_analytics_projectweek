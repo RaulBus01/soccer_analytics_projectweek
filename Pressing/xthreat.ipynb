{
 "cells": [
  {
   "cell_type": "code",
   "execution_count": 39,
   "metadata": {},
   "outputs": [
    {
     "name": "stderr",
     "output_type": "stream",
     "text": [
      "C:\\Users\\purva\\AppData\\Local\\Temp\\ipykernel_39620\\2552419504.py:35: UserWarning: pandas only supports SQLAlchemy connectable (engine/connection) or database string URI or sqlite3 DBAPI2 connection. Other DBAPI2 objects are not tested. Please consider using SQLAlchemy.\n",
      "  df = pd.read_sql(query, conn)\n"
     ]
    },
    {
     "name": "stdout",
     "output_type": "stream",
     "text": [
      "   id                    game_id  period_id  seconds  \\\n",
      "0   2  5oc8drrbruovbuiriyhdyiyok          1      1.0   \n",
      "1   5  5oc8drrbruovbuiriyhdyiyok          1     19.0   \n",
      "2   7  5oc8drrbruovbuiriyhdyiyok          1     21.0   \n",
      "3   9  5oc8drrbruovbuiriyhdyiyok          1     23.0   \n",
      "4  10  5oc8drrbruovbuiriyhdyiyok          1     25.0   \n",
      "\n",
      "                   player_id                    team_id  start_x  start_y  \\\n",
      "0   l6y4o9t2b0jxaxo85oztok45  1oyb7oym5nwzny8vxf03szd2h   32.865   30.464   \n",
      "1   4kuxth5k98x4cgfrfweu1u51  b7jmo07lqav0wfe2mtlzyspak   62.265   68.000   \n",
      "2  bybggxgpzlr7xz2f1i3b7c0kp  1oyb7oym5nwzny8vxf03szd2h   36.225   46.988   \n",
      "3  8mkkchf0ysdf78r0lncd73klw  1oyb7oym5nwzny8vxf03szd2h   47.880   27.812   \n",
      "4  8mkkchf0ysdf78r0lncd73klw  1oyb7oym5nwzny8vxf03szd2h   47.040   31.620   \n",
      "\n",
      "    end_x   end_y action_type result bodypart  player_name    team_name  \n",
      "0  32.445  33.864          21      1        0   B. Mechele  Club Brugge  \n",
      "1  37.380  56.644           2      0        2     S. Walsh     Mechelen  \n",
      "2  45.255  52.428          21      1        0  H. Vetlesen  Club Brugge  \n",
      "3  47.040  31.620          21      1        0      A. Nusa  Club Brugge  \n",
      "4  49.770  24.140          21      1        0      A. Nusa  Club Brugge  \n"
     ]
    }
   ],
   "source": [
    "from socceraction.xthreat import ExpectedThreat\n",
    "import pandas as pd\n",
    "import psycopg2\n",
    "\n",
    "\n",
    "conn = psycopg2.connect(\n",
    "    host=\"fuji.ucll.be\",\n",
    "    database=\"international_week\",\n",
    "    user=\"busit_79\",\n",
    "    password=\"[KSiO^`9??V\\K=?W2>Z:`\",\n",
    "    port=52425,\n",
    "    sslmode=\"require\",\n",
    ")\n",
    "\n",
    "query = \"\"\"\n",
    "SELECT \n",
    "    s.id, s.game_id, s.period_id, s.seconds, \n",
    "    s.player_id, s.team_id, \n",
    "    s.start_x, s.start_y, s.end_x, s.end_y, \n",
    "    s.action_type, s.result, s.bodypart,\n",
    "    p.player_name, t.team_name\n",
    "FROM \n",
    "    spadl_actions s\n",
    "LEFT JOIN \n",
    "    players p ON s.player_id = p.player_id\n",
    "LEFT JOIN \n",
    "    teams t ON s.team_id = t.team_id\n",
    "WHERE \n",
    "    s.start_x IS NOT NULL \n",
    "    AND s.end_x IS NOT NULL\n",
    "    AND s.action_type IN ('1', '2', '3', '4', '5','6','7','8','9','10','11','12','13','14','15','16','17','18','19','20','21')\n",
    "\"\"\"\n",
    "\n",
    "# Load data into pandas DataFrame\n",
    "df = pd.read_sql(query, conn)\n",
    "\n",
    "\n",
    "# Preview the dataset\n",
    "print(df.head())"
   ]
  },
  {
   "cell_type": "code",
   "execution_count": 49,
   "metadata": {},
   "outputs": [
    {
     "ename": "IndexError",
     "evalue": "only integers, slices (`:`), ellipsis (`...`), numpy.newaxis (`None`) and integer or boolean arrays are valid indices",
     "output_type": "error",
     "traceback": [
      "\u001b[1;31m---------------------------------------------------------------------------\u001b[0m",
      "\u001b[1;31mIndexError\u001b[0m                                Traceback (most recent call last)",
      "Cell \u001b[1;32mIn[49], line 22\u001b[0m\n\u001b[0;32m     19\u001b[0m     df[\u001b[38;5;124m'\u001b[39m\u001b[38;5;124mend_y_norm\u001b[39m\u001b[38;5;124m'\u001b[39m] \u001b[38;5;241m=\u001b[39m df[\u001b[38;5;124m'\u001b[39m\u001b[38;5;124mend_y\u001b[39m\u001b[38;5;124m'\u001b[39m]\n\u001b[0;32m     21\u001b[0m \u001b[38;5;66;03m# Calculate xT values directly using the model (this avoids the need to manually index)\u001b[39;00m\n\u001b[1;32m---> 22\u001b[0m df[\u001b[38;5;124m'\u001b[39m\u001b[38;5;124mstart_xT\u001b[39m\u001b[38;5;124m'\u001b[39m] \u001b[38;5;241m=\u001b[39m \u001b[43mxT_model\u001b[49m\u001b[38;5;241;43m.\u001b[39;49m\u001b[43mxT\u001b[49m\u001b[43m[\u001b[49m\u001b[43mdf\u001b[49m\u001b[43m[\u001b[49m\u001b[38;5;124;43m'\u001b[39;49m\u001b[38;5;124;43mstart_x_norm\u001b[39;49m\u001b[38;5;124;43m'\u001b[39;49m\u001b[43m]\u001b[49m\u001b[38;5;241;43m.\u001b[39;49m\u001b[43mround\u001b[49m\u001b[43m(\u001b[49m\u001b[38;5;241;43m2\u001b[39;49m\u001b[43m)\u001b[49m\u001b[38;5;241;43m*\u001b[39;49m\u001b[43mxT_model\u001b[49m\u001b[38;5;241;43m.\u001b[39;49m\u001b[43ml\u001b[49m\u001b[43m,\u001b[49m\u001b[43m \u001b[49m\u001b[43mdf\u001b[49m\u001b[43m[\u001b[49m\u001b[38;5;124;43m'\u001b[39;49m\u001b[38;5;124;43mstart_y_norm\u001b[39;49m\u001b[38;5;124;43m'\u001b[39;49m\u001b[43m]\u001b[49m\u001b[38;5;241;43m.\u001b[39;49m\u001b[43mround\u001b[49m\u001b[43m(\u001b[49m\u001b[38;5;241;43m2\u001b[39;49m\u001b[43m)\u001b[49m\u001b[38;5;241;43m*\u001b[39;49m\u001b[43mxT_model\u001b[49m\u001b[38;5;241;43m.\u001b[39;49m\u001b[43mw\u001b[49m\u001b[43m]\u001b[49m\n\u001b[0;32m     23\u001b[0m df[\u001b[38;5;124m'\u001b[39m\u001b[38;5;124mend_xT\u001b[39m\u001b[38;5;124m'\u001b[39m] \u001b[38;5;241m=\u001b[39m xT_model\u001b[38;5;241m.\u001b[39mxT[df[\u001b[38;5;124m'\u001b[39m\u001b[38;5;124mend_x_norm\u001b[39m\u001b[38;5;124m'\u001b[39m]\u001b[38;5;241m.\u001b[39mround(\u001b[38;5;241m2\u001b[39m)\u001b[38;5;241m*\u001b[39mxT_model\u001b[38;5;241m.\u001b[39ml, df[\u001b[38;5;124m'\u001b[39m\u001b[38;5;124mend_y_norm\u001b[39m\u001b[38;5;124m'\u001b[39m]\u001b[38;5;241m.\u001b[39mround(\u001b[38;5;241m2\u001b[39m)\u001b[38;5;241m*\u001b[39mxT_model\u001b[38;5;241m.\u001b[39mw]\n\u001b[0;32m     25\u001b[0m \u001b[38;5;66;03m# Compute xT contribution\u001b[39;00m\n",
      "\u001b[1;31mIndexError\u001b[0m: only integers, slices (`:`), ellipsis (`...`), numpy.newaxis (`None`) and integer or boolean arrays are valid indices"
     ]
    }
   ],
   "source": [
    "# Initialize Expected Threat model\n",
    "xT_model = ExpectedThreat()\n",
    "\n",
    "# Convert DataFrame columns to the format expected by the model\n",
    "# socceraction expects normalized coordinates (0-1)\n",
    "pitch_length = 105  # Standard soccer pitch length in meters\n",
    "pitch_width = 68    # Standard soccer pitch width in meters\n",
    "\n",
    "# Normalize coordinates if they're not already normalized\n",
    "if df['start_x'].max() > 1 or df['end_x'].max() > 1:\n",
    "    df['start_x_norm'] = df['start_x'] / pitch_length\n",
    "    df['start_y_norm'] = df['start_y'] / pitch_width\n",
    "    df['end_x_norm'] = df['end_x'] / pitch_length  \n",
    "    df['end_y_norm'] = df['end_y'] / pitch_width\n",
    "else:\n",
    "    df['start_x_norm'] = df['start_x']\n",
    "    df['start_y_norm'] = df['start_y']\n",
    "    df['end_x_norm'] = df['end_x']\n",
    "    df['end_y_norm'] = df['end_y']\n",
    "\n",
    "# Calculate xT values directly using the model (this avoids the need to manually index)\n",
    "df['start_xT'] = xT_model.xT[df['start_x_norm'].round(2)*xT_model.l, df['start_y_norm'].round(2)*xT_model.w]\n",
    "df['end_xT'] = xT_model.xT[df['end_x_norm'].round(2)*xT_model.l, df['end_y_norm'].round(2)*xT_model.w]\n",
    "\n",
    "# Compute xT contribution\n",
    "df['xT_contribution'] = df['end_xT'] - df['start_xT']\n",
    "\n",
    "# Show top 10 xT contributions with player and team names\n",
    "print(df[['player_name', 'team_name', 'xT_contribution']].sort_values(by='xT_contribution', ascending=False).head(10))\n"
   ]
  }
 ],
 "metadata": {
  "kernelspec": {
   "display_name": "Python 3",
   "language": "python",
   "name": "python3"
  },
  "language_info": {
   "codemirror_mode": {
    "name": "ipython",
    "version": 3
   },
   "file_extension": ".py",
   "mimetype": "text/x-python",
   "name": "python",
   "nbconvert_exporter": "python",
   "pygments_lexer": "ipython3",
   "version": "3.11.5"
  }
 },
 "nbformat": 4,
 "nbformat_minor": 2
}
