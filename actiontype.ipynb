{
 "cells": [
  {
   "cell_type": "code",
   "execution_count": null,
   "metadata": {},
   "outputs": [],
   "source": [
    "ACTION_TYPES = {\n",
    "    0: 'Pass',\n",
    "    1: 'Cross',\n",
    "    2: 'Throw-in',\n",
    "    3: 'Crossed free-kick',\n",
    "    4: 'Short free-kick',\n",
    "    5: 'Crossed corner',\n",
    "    6: 'Short corner',\n",
    "    7: 'Take on',\n",
    "    8: 'Foul',\n",
    "    9: 'Tackle',\n",
    "    10: 'Interception',\n",
    "    11: 'Shot',\n",
    "    12: 'Penalty shot',\n",
    "    13: 'Free-kick shot',\n",
    "    14: 'Keeper save',\n",
    "    15: 'Keeper claim',\n",
    "    16: 'Keeper punch',\n",
    "    17: 'Keeper pick-up',\n",
    "    18: 'Clearance',\n",
    "    19: 'Bad touch',\n",
    "    21: 'Dribble',\n",
    "    22: 'Goal kick'\n",
    "}"
   ]
  }
 ],
 "metadata": {
  "language_info": {
   "name": "python"
  }
 },
 "nbformat": 4,
 "nbformat_minor": 2
}
